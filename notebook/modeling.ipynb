{
 "cells": [
  {
   "cell_type": "code",
   "execution_count": 3,
   "metadata": {},
   "outputs": [],
   "source": [
    "# Importing necessary libraries for data manipulation, visualization, and machine learning\n",
    "import matplotlib.pyplot as plt  \n",
    "import numpy as np  \n",
    "import pandas as pd  \n",
    "import seaborn as sns  \n",
    "\n",
    "import pyreadstat  \n",
    "\n",
    "from sklearn import model_selection  \n",
    "from sklearn.ensemble import RandomForestClassifier  \n",
    "from sklearn.feature_selection import SelectFromModel  \n",
    "from sklearn.impute import KNNImputer  \n",
    "from sklearn.linear_model import LogisticRegression  \n",
    "from sklearn.metrics import accuracy_score, classification_report, confusion_matrix, f1_score  \n",
    "from sklearn.model_selection import train_test_split  \n",
    "from sklearn.naive_bayes import GaussianNB  \n",
    "from sklearn.neighbors import KNeighborsClassifier  \n",
    "from sklearn.preprocessing import LabelEncoder, MinMaxScaler, OrdinalEncoder   \n",
    "from sklearn.svm import SVC  \n",
    "from sklearn.tree import DecisionTreeClassifier  "
   ]
  },
  {
   "cell_type": "code",
   "execution_count": null,
   "metadata": {},
   "outputs": [],
   "source": []
  }
 ],
 "metadata": {
  "kernelspec": {
   "display_name": "Python 3",
   "language": "python",
   "name": "python3"
  },
  "language_info": {
   "codemirror_mode": {
    "name": "ipython",
    "version": 3
   },
   "file_extension": ".py",
   "mimetype": "text/x-python",
   "name": "python",
   "nbconvert_exporter": "python",
   "pygments_lexer": "ipython3",
   "version": "3.11.9"
  }
 },
 "nbformat": 4,
 "nbformat_minor": 2
}
