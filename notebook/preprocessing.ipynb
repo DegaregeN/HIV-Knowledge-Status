{
 "cells": [
  {
   "cell_type": "markdown",
   "metadata": {},
   "source": [
    "## Title: \"Predicting Comprehensive Knowledge about HIV/AIDS using a Machine Learning Approach\"\n",
    "\n",
    "Comprehensive Knowledge about HIV/AIDS is a composite outcome of the following:\n",
    "1. can get hiv by sharing food with person who has aids (v754wp)\n",
    "2. a healthy looking person can have hiv (v756)\n",
    "3. reduce risk of getting hiv: always use condoms during sex (v754cp)\n",
    "4. reduce risk of getting hiv: have 1 sex partner only, who has no other partners (v754dp)\n",
    "5. can get hiv from mosquito bites (v754jp)"
   ]
  },
  {
   "cell_type": "code",
   "execution_count": null,
   "metadata": {},
   "outputs": [],
   "source": [
    "# Importing necessary libraries for data manipulation and visualization\n",
    "import matplotlib.pyplot as plt  \n",
    "import numpy as np  \n",
    "import pandas as pd  \n",
    "import seaborn as sns  \n",
    "\n",
    "import pyreadstat  \n",
    "from sklearn.preprocessing import LabelEncoder, MinMaxScaler, OrdinalEncoder \n"
   ]
  },
  {
   "cell_type": "code",
   "execution_count": null,
   "metadata": {},
   "outputs": [],
   "source": [
    "data= pd.read_stata(\"D:\\\\AAU PHDS\\\\Semister Three\\\\Advanced Data Analytics\\\\Proposal\\\\DATASET\\\\women15_49.dta\")"
   ]
  },
  {
   "cell_type": "code",
   "execution_count": null,
   "metadata": {},
   "outputs": [],
   "source": [
    "data"
   ]
  },
  {
   "cell_type": "code",
   "execution_count": null,
   "metadata": {},
   "outputs": [],
   "source": [
    "#Import label names from STATA\n",
    "hiv, meta = pyreadstat.read_dta(\"D:/AAU PHDS/Semister Three/Advanced Data Analytics/Proposal/DATASET/women15_49.dta\")\n",
    "meta_data = dict(zip(meta.column_names, meta.column_labels))\n",
    "meta_data"
   ]
  },
  {
   "cell_type": "code",
   "execution_count": null,
   "metadata": {},
   "outputs": [],
   "source": [
    "data.info()"
   ]
  },
  {
   "cell_type": "code",
   "execution_count": null,
   "metadata": {},
   "outputs": [],
   "source": [
    "data"
   ]
  },
  {
   "cell_type": "code",
   "execution_count": null,
   "metadata": {},
   "outputs": [],
   "source": [
    "data.describe()"
   ]
  },
  {
   "cell_type": "code",
   "execution_count": null,
   "metadata": {},
   "outputs": [],
   "source": [
    "# Count the number of null values per column\n",
    "null_counts = data.isnull().sum()\n",
    "null_counts"
   ]
  },
  {
   "cell_type": "code",
   "execution_count": null,
   "metadata": {},
   "outputs": [],
   "source": [
    "## remove columns from the DataFrame where every entry in the column is NaN.\n",
    "df = data.dropna(axis=1, how='all')\n",
    "\n",
    "# Display the cleaned DataFrame\n",
    "print(\"\\nDataFrame after dropping columns with all NaN values:\")\n",
    "df"
   ]
  },
  {
   "cell_type": "code",
   "execution_count": null,
   "metadata": {},
   "outputs": [],
   "source": [
    "# Remove columns with >90% missing values\n",
    "columns_to_drop = df.columns[df.isnull().mean() > 0.9]\n",
    "data_cleaned = df.drop(columns=columns_to_drop)\n",
    "\n",
    "# Remove columns where all entries are NaN\n",
    "data_cleaned = data_cleaned.dropna(axis=1, how='all')\n",
    "\n",
    "data_cleaned"
   ]
  },
  {
   "cell_type": "code",
   "execution_count": null,
   "metadata": {},
   "outputs": [],
   "source": [
    "# Rename columns with variable names \n",
    "#df.columns = [meta_data.get(col, col) for col in df.columns]\n",
    "\n",
    "#df"
   ]
  },
  {
   "cell_type": "code",
   "execution_count": null,
   "metadata": {},
   "outputs": [],
   "source": [
    "#df.columns"
   ]
  },
  {
   "cell_type": "code",
   "execution_count": null,
   "metadata": {},
   "outputs": [],
   "source": []
  },
  {
   "cell_type": "code",
   "execution_count": null,
   "metadata": {},
   "outputs": [],
   "source": []
  },
  {
   "cell_type": "code",
   "execution_count": null,
   "metadata": {},
   "outputs": [],
   "source": []
  }
 ],
 "metadata": {
  "kernelspec": {
   "display_name": "Python 3",
   "language": "python",
   "name": "python3"
  },
  "language_info": {
   "codemirror_mode": {
    "name": "ipython",
    "version": 3
   },
   "file_extension": ".py",
   "mimetype": "text/x-python",
   "name": "python",
   "nbconvert_exporter": "python",
   "pygments_lexer": "ipython3",
   "version": "3.11.9"
  }
 },
 "nbformat": 4,
 "nbformat_minor": 2
}
